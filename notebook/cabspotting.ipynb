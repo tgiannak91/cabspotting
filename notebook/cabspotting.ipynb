{
 "cells": [
  {
   "cell_type": "markdown",
   "metadata": {},
   "source": [
    "# Project assignment\n",
    "\n",
    "**Use Case**:\n",
    "\n",
    "For this data science challenge I am provided with a dataset containing mobility traces of ~500 taxi cabs in San Francisco collected over ~30 days. The format of each mobility trace file is the following - each line contains (latitude, longitude, occupancy, time), e.g. (37.75134 -122.39488 0 1213084687), where latitude and longitude are in decimal degrees, occupancy shows if a cab has a fare (1 = occupied, 0 = free) and time is in UNIX epoch format.\n",
    "The goala of this data science challenge are:\n",
    "\n",
    "1. To calculate the potential for yearly reduction on CO2 emissions, caused by the taxi cabs roaming without passengers. In your calculation please assume that the taxi cab fleet is changing at the rate of 10% per month (from combustion engine-powered vehicles to electric vehicles). Assume also that the average passenger vehicle emits about 404 grams of CO2 per mile.\n",
    "2. To build a predictor for taxi drivers, predicting the next place a passenger will hail a cab.\n",
    "\n",
    "Bonus question:\n",
    "\n",
    "3. Identify clusters of taxi cabs that you find being relevant."
   ]
  },
  {
   "cell_type": "markdown",
   "metadata": {},
   "source": [
    "## Methodology\n",
    "\n",
    "Before diving into my solution, I would like to present the way I approached the problem. \n",
    "\n",
    "It is more important for me to demonstrate the way I think and approach problems than focusing on achieving high performance. I present alternative methods and other steps I could have followed on the following sections of this notebook.\n",
    "\n",
    "### Reduction of CO2 emissions\n",
    "\n",
    "I select only 5% of the total number of files. From these files, I keep only the coordinates where the occupancy was set to 0, since these are the points of interest. I use the current and previous coordinates to calculate the distance in miles that the cabs are doing without having passangers. Then I aggregate the total distance with 0 occupancy per driver. Finally I accumulate the distances of all drivers to have the total distance of interest for one month. I multiply the result by 12 and get the yearly distance of interest for the CO2 emissions\n",
    "\n",
    "Then, I assume that the policy of replacing 10% of the vehicles with EVs is in place. This policy means that the number of taxis with combustion engines is reduced by 10% every month. I assume that the distance for CO2 emissions is also reduced by 10% every month. Applying this policy for 12 months gives me the new distance for the CO2 emissions with EVs.\n",
    "\n",
    "Then, I take the two distances, divide them by 0.05 (I only took 5% of the files for my analysis) and thus approximate the total distance of all taxis. \n",
    "\n",
    "I get the CO2 reduction by multiplying the total distance with the number of CO2 grams per mile and comparing the results.\n",
    "\n",
    "### Predicting next pickup point for taxi drivers\n",
    "\n",
    "In order to tackle this problem, I create two subtasks.\n",
    "\n",
    "1. I predict the trajectory of each taxi driver using an approach similar to time series\n",
    "2. I build a classifier to predict if a location is a candidate for picking up a customer\n",
    "\n",
    "#### Predicting trajectories\n",
    "My goal is to build a model for each taxi driver that models his/her trajectory. In order to do that, I use a time series approach. I build a model that predicts the location in time `t` by taking as features the locations in `t-1, t-2, ..., t-n`. In my approach, I use a windown of 3, i.e. `n=3`. Of course, this is a hyper-parameter that needs to be exploited in order to get the best possible model. I do not do this hyper-parameter search because of time constrains.\n",
    "\n",
    "I split my data into training and test set with a test ratio of 20%. The train/test split is not done randomly. Since I approach the problem as a time series problem, I train my trajectory predictor using the first coordinates and test on the last coordinates (end of route).\n",
    "\n",
    "I plot the real and predicted trajectory (separate test set for that) in order to visualize how good the predicted trajectory is.\n",
    "\n",
    "**Notes**:\n",
    "\n",
    "* I build a trajectory predictor only for one taxi driver (selected randomly) in this assignment.\n",
    "* I use a simple neural network without hyper-parameter optimization.\n",
    "* I could have used other models like LSTM/GRU but could not afford the training time.\n",
    "* Other algorithms like linear/polynomial regression, SVR, etc could have been used.\n",
    "\n",
    "#### Classifier for pick-up points\n",
    "I implement a Random Forest (RF) Classifier in order to predict if a location is a pick-up point. To do so, I focus on the subset of data I select (5% of the total data) and use all the datapoints. This is different compared to the trajectory prediction, where I use only one file, since I want a trajectory predictor per taxi driver, i.e. per file.\n",
    "\n",
    "I use the coordinates, the day of week, hour and time (extracted after parsing the UNIX epoch timestamp) as features and the occupancy (0 or 1) as label. I assume that the rest of the features (seconds and year) are not very helpful.\n",
    "\n",
    "Split my data randomly into train and test sets with a test ration of 20%. I compare the performance of the RF classifier against a naive baseline (predict always 1 for location) and see a significant improvement.\n",
    "\n",
    "**Notes**:\n",
    "\n",
    "* I do not do hyper-parameter optimization.\n",
    "* Other algorithms logistic regression, SVM,, XgBoost, etc could have been used.\n",
    "\n",
    "#### Getting next pick-up locations\n",
    "We can get the next pick-up location by combining the trajectory predictor for each taxi driver and the pick-up point classifier.\n",
    "\n",
    "Using the trajectory predictor, we can predict the coordinates of a taxi driver. These coordinates can be fed into the pick-up point classifier which will indicate the next pick-up location with a certain probability."
   ]
  },
  {
   "cell_type": "code",
   "execution_count": 1,
   "metadata": {},
   "outputs": [
    {
     "name": "stderr",
     "output_type": "stream",
     "text": [
      "Using TensorFlow backend.\n"
     ]
    }
   ],
   "source": [
    "import random\n",
    "import datetime\n",
    "from os import listdir\n",
    "from os.path import join as jp\n",
    "\n",
    "import numpy as np\n",
    "import pandas as pd\n",
    "from pandas import DataFrame\n",
    "from pandas import Series\n",
    "import matplotlib.pyplot as plt\n",
    "from math import radians, degrees, sin, cos, asin, acos, sqrt\n",
    "\n",
    "from keras.models import Sequential\n",
    "from keras.layers import Dense, Input, Activation, BatchNormalization, Dropout\n",
    "\n",
    "from sklearn import metrics\n",
    "from sklearn.cluster import DBSCAN\n",
    "from sklearn.model_selection import train_test_split\n",
    "from sklearn.ensemble import RandomForestClassifier\n",
    "from sklearn.metrics import accuracy_score\n",
    "\n",
    "pd.options.mode.chained_assignment = None"
   ]
  },
  {
   "cell_type": "markdown",
   "metadata": {},
   "source": [
    "## Task 1: Calculate CO2 reduction"
   ]
  },
  {
   "cell_type": "markdown",
   "metadata": {},
   "source": [
    "First, I define some helper functions, that are used in following cells.\n",
    "\n",
    "**Note**: I prefer to select good variable and method names and avoid documentation in order to have a cleaner and easily maintained code"
   ]
  },
  {
   "cell_type": "code",
   "execution_count": 2,
   "metadata": {},
   "outputs": [],
   "source": [
    "def convert_file_into_dataframe(file_name: str):\n",
    "    df = pd.read_csv(jp(path, file_name), sep=' ', header=None)\n",
    "    df.index = file_name.split('.')[0] + \"_\" + df.index.map(str)\n",
    "    df.columns = ['lattitude', 'longitude', 'occupancy', 'timestamp']\n",
    "    df['taxi'] = file_name.split('.')[0]\n",
    "    return df\n",
    "\n",
    "def add_previous_coordinates(df: DataFrame):\n",
    "    df['previous_lattitude'] = df.shift(1)['lattitude']\n",
    "    df['previous_longitude'] = df.shift(1)['longitude']\n",
    "    df = df.dropna()\n",
    "    return df\n",
    "\n",
    "def _estimate_distance_in_miles(row: Series):\n",
    "    # formula taken from\n",
    "    # https://medium.com/@petehouston/calculate-distance-of-two-locations-on-earth-using-python-1501b1944d97\n",
    "    longitude = row['longitude']\n",
    "    lattitude = row['lattitude']\n",
    "    previous_longitude = row['previous_longitude']\n",
    "    previous_lattitude = row['previous_lattitude']\n",
    "    longitude, lattitude, previous_longitude, previous_lattitude = map(radians, \n",
    "                                                                       [longitude, lattitude, \n",
    "                                                                        previous_longitude, previous_lattitude])\n",
    "    try:\n",
    "        return 3958.756 * (acos(sin(lattitude) * sin(previous_lattitude) + cos(lattitude) * cos(previous_lattitude) * \n",
    "                                cos(longitude - previous_longitude)))\n",
    "    except:\n",
    "        return 0.0\n",
    "\n",
    "def calculate_distance_from_coordinates(df: DataFrame):\n",
    "    df['miles'] = 0.0\n",
    "    df['miles'] = df.apply(lambda row: _estimate_distance_in_miles(row), axis=1)\n",
    "    return df"
   ]
  },
  {
   "cell_type": "markdown",
   "metadata": {},
   "source": [
    "#### Data selection\n",
    "\n",
    "I only select randomly 5% of all the files for aforementioned reasons."
   ]
  },
  {
   "cell_type": "code",
   "execution_count": 3,
   "metadata": {},
   "outputs": [
    {
     "name": "stdout",
     "output_type": "stream",
     "text": [
      "All files are 537\n",
      "\n",
      "26 randomly selected files\n"
     ]
    }
   ],
   "source": [
    "path = '/Users/taagiat1/Downloads/cabspottingdata/'\n",
    "all_files = [file_name for file_name in listdir(path) if file_name.endswith('.txt')]\n",
    "print(f'All files are {len(all_files)}')\n",
    "\n",
    "percentage_of_files_to_select = 0.05\n",
    "\n",
    "random.Random(5).shuffle(all_files)\n",
    "selected_files = all_files[:int(percentage_of_files_to_select * len(all_files))]\n",
    "\n",
    "print(f'\\n{len(selected_files)} randomly selected files')"
   ]
  },
  {
   "cell_type": "markdown",
   "metadata": {},
   "source": [
    "After selecting all the data, I convert them into a dataframe that includes the distance of interest for the CO2 emissions."
   ]
  },
  {
   "cell_type": "code",
   "execution_count": 4,
   "metadata": {},
   "outputs": [],
   "source": [
    "all_data = pd.DataFrame()\n",
    "for f in selected_files:\n",
    "    df = convert_file_into_dataframe(file_name=f)\n",
    "    df = add_previous_coordinates(df=df)\n",
    "    df = calculate_distance_from_coordinates(df=df)\n",
    "    all_data = pd.concat([all_data, df])"
   ]
  },
  {
   "cell_type": "markdown",
   "metadata": {},
   "source": [
    "A very fast data analysis can be done using the `describe` method. There is no `nan` value (from the count field) and there are no outliers. \n",
    "\n",
    "By inspecting the data, I also noticed that some coordinates are places in the **Pacific ocean** but I assume that this comes for GPS error."
   ]
  },
  {
   "cell_type": "code",
   "execution_count": 5,
   "metadata": {},
   "outputs": [
    {
     "data": {
      "text/html": [
       "<div>\n",
       "<style scoped>\n",
       "    .dataframe tbody tr th:only-of-type {\n",
       "        vertical-align: middle;\n",
       "    }\n",
       "\n",
       "    .dataframe tbody tr th {\n",
       "        vertical-align: top;\n",
       "    }\n",
       "\n",
       "    .dataframe thead th {\n",
       "        text-align: right;\n",
       "    }\n",
       "</style>\n",
       "<table border=\"1\" class=\"dataframe\">\n",
       "  <thead>\n",
       "    <tr style=\"text-align: right;\">\n",
       "      <th></th>\n",
       "      <th>lattitude</th>\n",
       "      <th>longitude</th>\n",
       "      <th>occupancy</th>\n",
       "      <th>timestamp</th>\n",
       "      <th>previous_lattitude</th>\n",
       "      <th>previous_longitude</th>\n",
       "      <th>miles</th>\n",
       "    </tr>\n",
       "  </thead>\n",
       "  <tbody>\n",
       "    <tr>\n",
       "      <th>count</th>\n",
       "      <td>567018.000000</td>\n",
       "      <td>567018.000000</td>\n",
       "      <td>567018.000000</td>\n",
       "      <td>5.670180e+05</td>\n",
       "      <td>567018.000000</td>\n",
       "      <td>567018.000000</td>\n",
       "      <td>567018.000000</td>\n",
       "    </tr>\n",
       "    <tr>\n",
       "      <th>mean</th>\n",
       "      <td>37.766250</td>\n",
       "      <td>-122.412855</td>\n",
       "      <td>0.450201</td>\n",
       "      <td>1.212009e+09</td>\n",
       "      <td>37.766251</td>\n",
       "      <td>-122.412857</td>\n",
       "      <td>0.403666</td>\n",
       "    </tr>\n",
       "    <tr>\n",
       "      <th>std</th>\n",
       "      <td>0.048692</td>\n",
       "      <td>0.035107</td>\n",
       "      <td>0.497514</td>\n",
       "      <td>5.856945e+05</td>\n",
       "      <td>0.048688</td>\n",
       "      <td>0.035103</td>\n",
       "      <td>1.141241</td>\n",
       "    </tr>\n",
       "    <tr>\n",
       "      <th>min</th>\n",
       "      <td>37.267510</td>\n",
       "      <td>-123.959060</td>\n",
       "      <td>0.000000</td>\n",
       "      <td>1.211018e+09</td>\n",
       "      <td>37.267510</td>\n",
       "      <td>-123.959060</td>\n",
       "      <td>0.000000</td>\n",
       "    </tr>\n",
       "    <tr>\n",
       "      <th>25%</th>\n",
       "      <td>37.759490</td>\n",
       "      <td>-122.425590</td>\n",
       "      <td>0.000000</td>\n",
       "      <td>1.211506e+09</td>\n",
       "      <td>37.759490</td>\n",
       "      <td>-122.425590</td>\n",
       "      <td>0.031722</td>\n",
       "    </tr>\n",
       "    <tr>\n",
       "      <th>50%</th>\n",
       "      <td>37.781820</td>\n",
       "      <td>-122.411500</td>\n",
       "      <td>0.000000</td>\n",
       "      <td>1.212001e+09</td>\n",
       "      <td>37.781820</td>\n",
       "      <td>-122.411500</td>\n",
       "      <td>0.160261</td>\n",
       "    </tr>\n",
       "    <tr>\n",
       "      <th>75%</th>\n",
       "      <td>37.790780</td>\n",
       "      <td>-122.400910</td>\n",
       "      <td>1.000000</td>\n",
       "      <td>1.212525e+09</td>\n",
       "      <td>37.790780</td>\n",
       "      <td>-122.400910</td>\n",
       "      <td>0.322380</td>\n",
       "    </tr>\n",
       "    <tr>\n",
       "      <th>max</th>\n",
       "      <td>37.999750</td>\n",
       "      <td>-122.000010</td>\n",
       "      <td>1.000000</td>\n",
       "      <td>1.213088e+09</td>\n",
       "      <td>37.999750</td>\n",
       "      <td>-122.000010</td>\n",
       "      <td>85.458140</td>\n",
       "    </tr>\n",
       "  </tbody>\n",
       "</table>\n",
       "</div>"
      ],
      "text/plain": [
       "           lattitude      longitude      occupancy     timestamp  \\\n",
       "count  567018.000000  567018.000000  567018.000000  5.670180e+05   \n",
       "mean       37.766250    -122.412855       0.450201  1.212009e+09   \n",
       "std         0.048692       0.035107       0.497514  5.856945e+05   \n",
       "min        37.267510    -123.959060       0.000000  1.211018e+09   \n",
       "25%        37.759490    -122.425590       0.000000  1.211506e+09   \n",
       "50%        37.781820    -122.411500       0.000000  1.212001e+09   \n",
       "75%        37.790780    -122.400910       1.000000  1.212525e+09   \n",
       "max        37.999750    -122.000010       1.000000  1.213088e+09   \n",
       "\n",
       "       previous_lattitude  previous_longitude          miles  \n",
       "count       567018.000000       567018.000000  567018.000000  \n",
       "mean            37.766251         -122.412857       0.403666  \n",
       "std              0.048688            0.035103       1.141241  \n",
       "min             37.267510         -123.959060       0.000000  \n",
       "25%             37.759490         -122.425590       0.031722  \n",
       "50%             37.781820         -122.411500       0.160261  \n",
       "75%             37.790780         -122.400910       0.322380  \n",
       "max             37.999750         -122.000010      85.458140  "
      ]
     },
     "execution_count": 5,
     "metadata": {},
     "output_type": "execute_result"
    }
   ],
   "source": [
    "all_data.describe()"
   ]
  },
  {
   "cell_type": "markdown",
   "metadata": {},
   "source": [
    "Now, I calculate for each taxi, the distance without a passanger."
   ]
  },
  {
   "cell_type": "code",
   "execution_count": 6,
   "metadata": {},
   "outputs": [
    {
     "name": "stdout",
     "output_type": "stream",
     "text": [
      "taxi\n",
      "new_acduou       1928.825319\n",
      "new_ackgrica     1520.561978\n",
      "new_adpaifo      1887.044545\n",
      "new_afmorc       1967.400032\n",
      "new_ailbcuv      2151.976509\n",
      "new_ajsnedsi     3065.646612\n",
      "new_ashgati      1107.950717\n",
      "new_aydwaho      2024.546007\n",
      "new_eavflid      2533.041470\n",
      "new_ebenfrag     2481.424806\n",
      "new_eccest       2332.822815\n",
      "new_eicmynts     1541.489652\n",
      "new_eincufpy      410.518313\n",
      "new_eitpem        988.923540\n",
      "new_ekenucki     2725.079913\n",
      "new_ektamy       2367.455664\n",
      "new_eshroa       2891.269306\n",
      "new_esnddceb     2473.422297\n",
      "new_idodly       2453.106028\n",
      "new_ifelas       2645.401528\n",
      "new_iofplik      2755.886605\n",
      "new_oapwycti     1992.035794\n",
      "new_ojbaso       2361.905872\n",
      "new_oljnek       3274.327074\n",
      "new_osckro       2898.263218\n",
      "new_upthin      52260.395227\n",
      "Name: miles, dtype: float64\n"
     ]
    }
   ],
   "source": [
    "df_no_passanger = all_data[all_data['occupancy'] == 0]\n",
    "distance_without_passangers = df_no_passanger.groupby(by=['taxi'])['miles'].sum()\n",
    "print(distance_without_passangers)"
   ]
  },
  {
   "cell_type": "markdown",
   "metadata": {},
   "source": [
    "#### CO2 Reduction Analysis\n",
    "\n",
    "The two following cells present the calculation of CO2 emissions before and after the ECO-friendly policy (more details are presented in the introduction)."
   ]
  },
  {
   "cell_type": "code",
   "execution_count": 7,
   "metadata": {},
   "outputs": [
    {
     "name": "stdout",
     "output_type": "stream",
     "text": [
      "The distance for CO2 in one year (before the EVs) is approx 1284489.0 miles\n",
      "\n",
      "The distance for CO2 after 0 month(s) ofEVs is approx 107040.721 miles\n",
      "The distance for CO2 after 1 month(s) ofEVs is approx 96336.649 miles\n",
      "The distance for CO2 after 2 month(s) ofEVs is approx 86702.984 miles\n",
      "The distance for CO2 after 3 month(s) ofEVs is approx 78032.685 miles\n",
      "The distance for CO2 after 4 month(s) ofEVs is approx 70229.417 miles\n",
      "The distance for CO2 after 5 month(s) ofEVs is approx 63206.475 miles\n",
      "The distance for CO2 after 6 month(s) ofEVs is approx 56885.828 miles\n",
      "The distance for CO2 after 7 month(s) ofEVs is approx 51197.245 miles\n",
      "The distance for CO2 after 8 month(s) ofEVs is approx 46077.52 miles\n",
      "The distance for CO2 after 9 month(s) ofEVs is approx 41469.768 miles\n",
      "The distance for CO2 after 10 month(s) ofEVs is approx 37322.792 miles\n",
      "The distance for CO2 after 11 month(s) ofEVs is approx 33590.512 miles\n",
      "\n",
      "The distance for CO2 after one year of EVs is approx 768093.0 miles\n"
     ]
    }
   ],
   "source": [
    "distance_without_passangers_per_month = distance_without_passangers.sum()\n",
    "distance_without_passangers_per_year = distance_without_passangers_per_month * 12\n",
    "\n",
    "print(f'The distance for CO2 in one year (before the EVs) '\n",
    "      f'is approx {round(distance_without_passangers_per_year)} miles\\n')\n",
    "\n",
    "distance_without_passangers_per_year_with_evs = 0.0\n",
    "\n",
    "for month in range(12):\n",
    "    if month == 0:\n",
    "        distance_without_passangers_per_month_with_evs = distance_without_passangers_per_month\n",
    "        distance_without_passangers_per_year_with_evs = distance_without_passangers_per_month\n",
    "    else:\n",
    "        distance_without_passangers_per_month_with_evs = distance_without_passangers_per_month_with_evs * 0.9\n",
    "        distance_without_passangers_per_year_with_evs += distance_without_passangers_per_month_with_evs\n",
    "    print(f'The distance for CO2 after {month} month(s) of'\n",
    "          f'EVs is approx {round(distance_without_passangers_per_month_with_evs, 3)} miles')\n",
    "    \n",
    "print(f'\\nThe distance for CO2 after one year of EVs '\n",
    "      f'is approx {round(distance_without_passangers_per_year_with_evs)} miles')"
   ]
  },
  {
   "cell_type": "code",
   "execution_count": 8,
   "metadata": {},
   "outputs": [
    {
     "name": "stdout",
     "output_type": "stream",
     "text": [
      "The CO2 emissions are reduced by 40.2%\n"
     ]
    }
   ],
   "source": [
    "CO2_grams_per_mile = 404\n",
    "CO2_emissions_without_ev = distance_without_passangers_per_year / percentage_of_files_to_select * CO2_grams_per_mile\n",
    "CO2_emissions_with_ev = distance_without_passangers_per_year_with_evs / percentage_of_files_to_select * CO2_grams_per_mile\n",
    "\n",
    "CO2_reduction = round((CO2_emissions_without_ev - CO2_emissions_with_ev) / CO2_emissions_without_ev, 4)\n",
    "\n",
    "print(f'The CO2 emissions are reduced by {CO2_reduction * 100}%')"
   ]
  },
  {
   "cell_type": "markdown",
   "metadata": {},
   "source": [
    "## Task 2: Predicting the next place a passenger will hail a cab\n",
    "\n",
    "As mentioned in the introduction, I split this problem into two subtasks."
   ]
  },
  {
   "cell_type": "markdown",
   "metadata": {},
   "source": [
    "### Subtask 1: Predicting trajectory for a single taxi driver\n",
    "\n",
    "As mentioned in the intro, I build a trajectory model for each taxi driver. Here, I include only one taxi driver in my analysis."
   ]
  },
  {
   "cell_type": "markdown",
   "metadata": {},
   "source": [
    "#### Data preparation\n",
    "\n",
    "I start by normalizing my data by removing the lattitude and longitude offset of San Francisco."
   ]
  },
  {
   "cell_type": "code",
   "execution_count": 9,
   "metadata": {},
   "outputs": [],
   "source": [
    "lat_offset = 37.0\n",
    "long_offset = -122.0\n",
    "taxi_driver = selected_files[0]\n",
    "\n",
    "datapoints = []\n",
    "with open(file=jp(path, taxi_driver), mode='r') as f:\n",
    "    for line in f:\n",
    "        lat, long, occ, ts = line.split()\n",
    "        datapoints.append([float(lat) - lat_offset, float(long) - long_offset])"
   ]
  },
  {
   "cell_type": "markdown",
   "metadata": {},
   "source": [
    "I tackle this problem as a time series problem, thus I build the data in a format that contains `t-1, t-2, t-3` coordinates (stored in `X` matrix) and use `t` as the coordinate I want to predict (stored in `Y` matrix)."
   ]
  },
  {
   "cell_type": "code",
   "execution_count": 10,
   "metadata": {},
   "outputs": [],
   "source": [
    "X = []\n",
    "Y = []\n",
    "window = 3\n",
    "for idx in range(len(datapoints) - window):\n",
    "    timesteps = datapoints[idx:idx + window]\n",
    "    X.append([ts for timestep in timesteps for ts in timestep])\n",
    "    Y.append(datapoints[idx + window])"
   ]
  },
  {
   "cell_type": "markdown",
   "metadata": {},
   "source": [
    "Since it is a time series approach, I select the first 80% of my data to be my train set and the last 20% to be my test set."
   ]
  },
  {
   "cell_type": "code",
   "execution_count": 11,
   "metadata": {},
   "outputs": [],
   "source": [
    "training_set_size = round(len(X) * 0.8)\n",
    "\n",
    "X_train = np.array(X[:training_set_size])\n",
    "X_test = np.array(X[training_set_size:])\n",
    "\n",
    "Y_train = np.array(Y[:training_set_size])\n",
    "Y_test = np.array(Y[training_set_size:])"
   ]
  },
  {
   "cell_type": "markdown",
   "metadata": {},
   "source": [
    "#### Trajectory Predictor Model\n",
    "\n",
    "The trajectory predictor is a simple fully connected neural network with one input layer, one hidden layer and one output layer. The output activation is `linear` and the loss function is set to `MSE` since it is a regression problem.\n",
    "\n",
    "**Note:** The reasons for not testing another model was mentioned in the introduction."
   ]
  },
  {
   "cell_type": "code",
   "execution_count": 12,
   "metadata": {},
   "outputs": [
    {
     "name": "stdout",
     "output_type": "stream",
     "text": [
      "WARNING:tensorflow:From /Users/taagiat1/Documents/skynet/other/innovation_sprint_ml_workshop/venv/lib/python3.6/site-packages/tensorflow/python/framework/op_def_library.py:263: colocate_with (from tensorflow.python.framework.ops) is deprecated and will be removed in a future version.\n",
      "Instructions for updating:\n",
      "Colocations handled automatically by placer.\n"
     ]
    }
   ],
   "source": [
    "model = Sequential()\n",
    "model.add(BatchNormalization())\n",
    "model.add(Dense(4, input_shape=(6,)))\n",
    "model.add(Activation('tanh'))\n",
    "model.add(Dropout(0.2))\n",
    "model.add(BatchNormalization())\n",
    "model.add(Dense(2))\n",
    "model.add(Activation('linear'))\n",
    "model.compile(loss='mean_squared_error', optimizer='Adam')"
   ]
  },
  {
   "cell_type": "code",
   "execution_count": 13,
   "metadata": {
    "scrolled": false
   },
   "outputs": [
    {
     "name": "stdout",
     "output_type": "stream",
     "text": [
      "WARNING:tensorflow:From /Users/taagiat1/Documents/skynet/other/innovation_sprint_ml_workshop/venv/lib/python3.6/site-packages/keras/backend/tensorflow_backend.py:3445: calling dropout (from tensorflow.python.ops.nn_ops) with keep_prob is deprecated and will be removed in a future version.\n",
      "Instructions for updating:\n",
      "Please use `rate` instead of `keep_prob`. Rate should be set to `rate = 1 - keep_prob`.\n",
      "WARNING:tensorflow:From /Users/taagiat1/Documents/skynet/other/innovation_sprint_ml_workshop/venv/lib/python3.6/site-packages/tensorflow/python/ops/math_ops.py:3066: to_int32 (from tensorflow.python.ops.math_ops) is deprecated and will be removed in a future version.\n",
      "Instructions for updating:\n",
      "Use tf.cast instead.\n",
      "Train on 18555 samples, validate on 4639 samples\n",
      "Epoch 1/50\n",
      "18555/18555 [==============================] - 2s 86us/step - loss: 0.1755 - val_loss: 0.0072\n",
      "Epoch 2/50\n",
      "18555/18555 [==============================] - 1s 52us/step - loss: 0.0176 - val_loss: 0.0014\n",
      "Epoch 3/50\n",
      "18555/18555 [==============================] - 1s 53us/step - loss: 0.0046 - val_loss: 6.2364e-04\n",
      "Epoch 4/50\n",
      "18555/18555 [==============================] - 1s 55us/step - loss: 0.0015 - val_loss: 5.1321e-04\n",
      "Epoch 5/50\n",
      "18555/18555 [==============================] - 1s 56us/step - loss: 8.4973e-04 - val_loss: 4.2359e-04\n",
      "Epoch 6/50\n",
      "18555/18555 [==============================] - 1s 56us/step - loss: 7.6081e-04 - val_loss: 4.1708e-04\n",
      "Epoch 7/50\n",
      "18555/18555 [==============================] - 1s 51us/step - loss: 7.1101e-04 - val_loss: 3.6894e-04\n",
      "Epoch 8/50\n",
      "18555/18555 [==============================] - 1s 50us/step - loss: 6.8024e-04 - val_loss: 3.9851e-04\n",
      "Epoch 9/50\n",
      "18555/18555 [==============================] - 1s 58us/step - loss: 6.7723e-04 - val_loss: 3.3026e-04\n",
      "Epoch 10/50\n",
      "18555/18555 [==============================] - 1s 53us/step - loss: 6.6175e-04 - val_loss: 2.5277e-04\n",
      "Epoch 11/50\n",
      "18555/18555 [==============================] - 1s 58us/step - loss: 6.4292e-04 - val_loss: 2.1792e-04\n",
      "Epoch 12/50\n",
      "18555/18555 [==============================] - 1s 61us/step - loss: 6.4308e-04 - val_loss: 2.6096e-04\n",
      "Epoch 13/50\n",
      "18555/18555 [==============================] - 1s 47us/step - loss: 6.3427e-04 - val_loss: 2.3676e-04\n",
      "Epoch 14/50\n",
      "18555/18555 [==============================] - 1s 54us/step - loss: 6.2718e-04 - val_loss: 2.2254e-04\n",
      "Epoch 15/50\n",
      "18555/18555 [==============================] - 1s 47us/step - loss: 6.1634e-04 - val_loss: 1.7766e-04\n",
      "Epoch 16/50\n",
      "18555/18555 [==============================] - 1s 52us/step - loss: 6.1969e-04 - val_loss: 2.0444e-04\n",
      "Epoch 17/50\n",
      "18555/18555 [==============================] - 1s 54us/step - loss: 6.2131e-04 - val_loss: 2.2182e-04\n",
      "Epoch 18/50\n",
      "18555/18555 [==============================] - 1s 53us/step - loss: 5.9988e-04 - val_loss: 1.4628e-04\n",
      "Epoch 19/50\n",
      "18555/18555 [==============================] - 1s 46us/step - loss: 6.0302e-04 - val_loss: 1.8253e-04\n",
      "Epoch 20/50\n",
      "18555/18555 [==============================] - 1s 46us/step - loss: 5.9195e-04 - val_loss: 2.1184e-04\n",
      "Epoch 21/50\n",
      "18555/18555 [==============================] - 1s 46us/step - loss: 5.9657e-04 - val_loss: 1.5577e-04\n",
      "Epoch 22/50\n",
      "18555/18555 [==============================] - 1s 47us/step - loss: 5.9551e-04 - val_loss: 1.4610e-04\n",
      "Epoch 23/50\n",
      "18555/18555 [==============================] - 1s 55us/step - loss: 5.8857e-04 - val_loss: 1.5772e-04\n",
      "Epoch 24/50\n",
      "18555/18555 [==============================] - 1s 51us/step - loss: 5.7877e-04 - val_loss: 1.8698e-04\n",
      "Epoch 25/50\n",
      "18555/18555 [==============================] - 1s 62us/step - loss: 5.6659e-04 - val_loss: 2.2128e-04\n",
      "Epoch 26/50\n",
      "18555/18555 [==============================] - 1s 59us/step - loss: 5.3921e-04 - val_loss: 2.1635e-04\n",
      "Epoch 27/50\n",
      "18555/18555 [==============================] - 1s 49us/step - loss: 5.3895e-04 - val_loss: 1.5536e-04\n",
      "Epoch 28/50\n",
      "18555/18555 [==============================] - 1s 53us/step - loss: 5.7350e-04 - val_loss: 9.9151e-05\n",
      "Epoch 29/50\n",
      "18555/18555 [==============================] - 1s 52us/step - loss: 5.4679e-04 - val_loss: 1.1333e-04\n",
      "Epoch 30/50\n",
      "18555/18555 [==============================] - 1s 50us/step - loss: 5.9379e-04 - val_loss: 9.4866e-05\n",
      "Epoch 31/50\n",
      "18555/18555 [==============================] - 1s 51us/step - loss: 5.7018e-04 - val_loss: 1.4345e-04\n",
      "Epoch 32/50\n",
      "18555/18555 [==============================] - 1s 55us/step - loss: 5.6542e-04 - val_loss: 6.8754e-05\n",
      "Epoch 33/50\n",
      "18555/18555 [==============================] - 1s 56us/step - loss: 5.5259e-04 - val_loss: 9.0801e-05\n",
      "Epoch 34/50\n",
      "18555/18555 [==============================] - 1s 46us/step - loss: 5.6667e-04 - val_loss: 9.7984e-05\n",
      "Epoch 35/50\n",
      "18555/18555 [==============================] - 1s 47us/step - loss: 5.5412e-04 - val_loss: 1.2246e-04\n",
      "Epoch 36/50\n",
      "18555/18555 [==============================] - 1s 46us/step - loss: 5.6891e-04 - val_loss: 8.7914e-05\n",
      "Epoch 37/50\n",
      "18555/18555 [==============================] - 1s 46us/step - loss: 5.6350e-04 - val_loss: 1.4804e-04\n",
      "Epoch 38/50\n",
      "18555/18555 [==============================] - 1s 52us/step - loss: 5.5146e-04 - val_loss: 8.8978e-05\n",
      "Epoch 39/50\n",
      "18555/18555 [==============================] - 1s 46us/step - loss: 5.7376e-04 - val_loss: 8.9549e-05\n",
      "Epoch 40/50\n",
      "18555/18555 [==============================] - 1s 45us/step - loss: 5.4054e-04 - val_loss: 1.1279e-04\n",
      "Epoch 41/50\n",
      "18555/18555 [==============================] - 1s 51us/step - loss: 5.4827e-04 - val_loss: 6.5791e-05\n",
      "Epoch 42/50\n",
      "18555/18555 [==============================] - 1s 53us/step - loss: 5.4995e-04 - val_loss: 1.0765e-04\n",
      "Epoch 43/50\n",
      "18555/18555 [==============================] - 1s 53us/step - loss: 5.4727e-04 - val_loss: 7.8554e-05\n",
      "Epoch 44/50\n",
      "18555/18555 [==============================] - 1s 54us/step - loss: 5.4986e-04 - val_loss: 4.8302e-05\n",
      "Epoch 45/50\n",
      "18555/18555 [==============================] - 1s 56us/step - loss: 5.4281e-04 - val_loss: 5.0933e-05\n",
      "Epoch 46/50\n",
      "18555/18555 [==============================] - 1s 51us/step - loss: 5.3462e-04 - val_loss: 6.3141e-05\n",
      "Epoch 47/50\n",
      "18555/18555 [==============================] - 1s 55us/step - loss: 5.2084e-04 - val_loss: 6.0200e-05\n",
      "Epoch 48/50\n",
      "18555/18555 [==============================] - 1s 53us/step - loss: 5.4157e-04 - val_loss: 4.4073e-05\n",
      "Epoch 49/50\n",
      "18555/18555 [==============================] - 1s 52us/step - loss: 5.2689e-04 - val_loss: 1.0492e-04\n",
      "Epoch 50/50\n",
      "18555/18555 [==============================] - 1s 56us/step - loss: 5.0877e-04 - val_loss: 5.0014e-05\n",
      "MSE on training set 0.0005\n",
      "MSE on testing set 0.0001\n"
     ]
    }
   ],
   "source": [
    "history = model.fit(X_train, Y_train, epochs=50, validation_data=(X_test, Y_test), verbose=1)\n",
    "print(f'MSE on training set {history.history[\"loss\"][-1].round(4)}')\n",
    "print(f'MSE on testing set {history.history[\"val_loss\"][-1].round(4)}')"
   ]
  },
  {
   "cell_type": "markdown",
   "metadata": {},
   "source": [
    "#### Training the neural network\n",
    "\n",
    "The neural network is trained for 50 epoches. Bellow, the training and testing losses are depicted. From the graph, we see that the network does not overfit. I omit the loss of the first 10 epochs. Thus, the loss is already small and the difference between the train and test curve is visible. Otherwise, the loss at the beginning of the training is big and the two curves cannot be distinguished (matter of scaling in the y-axis)."
   ]
  },
  {
   "cell_type": "code",
   "execution_count": 14,
   "metadata": {},
   "outputs": [
    {
     "data": {
      "image/png": "[encoded data removed]",
      "text/plain": [
       "<Figure size 432x288 with 1 Axes>"
      ]
     },
     "metadata": {
      "needs_background": "light"
     },
     "output_type": "display_data"
    }
   ],
   "source": [
    "_, ax = plt.subplots()\n",
    "ax.plot(history.history['loss'][10:])\n",
    "ax.plot(history.history['val_loss'][10:])\n",
    "plt.title('Model MSE')\n",
    "plt.ylabel('MSE')\n",
    "plt.xlabel('Epoch')\n",
    "ax.set_xticklabels(np.arange(5, 55, 5))\n",
    "plt.legend(['Train', 'Test'], loc='upper right')\n",
    "plt.show()"
   ]
  },
  {
   "cell_type": "markdown",
   "metadata": {},
   "source": [
    "#### Predicting trajectories\n",
    "\n",
    "I used the trained model and the `X_test` in order to make predictions for the last part of the trajectory. I do not present the loss since a loss in distance in coordinates is tough to interpret. On the contrary, I choose to present the **true (on the left)** and **predicted (on the right)** trajectory of the taxi driver. From the graphs, we see that the model did a good job."
   ]
  },
  {
   "cell_type": "code",
   "execution_count": 15,
   "metadata": {},
   "outputs": [],
   "source": [
    "Y_pred = model.predict(X_test)"
   ]
  },
  {
   "cell_type": "code",
   "execution_count": 16,
   "metadata": {},
   "outputs": [
    {
     "data": {
      "image/png": "[encoded data removed]",
      "text/plain": [
       "<Figure size 1440x720 with 2 Axes>"
      ]
     },
     "metadata": {
      "needs_background": "light"
     },
     "output_type": "display_data"
    }
   ],
   "source": [
    "plt.figure(figsize=(20, 10))\n",
    "plt.subplot(121)\n",
    "plt.scatter(Y_test[:,0] + lat_offset, Y_test[:,-1] + long_offset)\n",
    "plt.title('True trajectory for {}'.format(taxi_driver.split('.')[0]))\n",
    "plt.ylabel('Lattitude')\n",
    "plt.xlabel('Longitude')\n",
    "plt.subplot(122)\n",
    "plt.scatter(Y_pred[:,0] + lat_offset, Y_pred[:,-1] + long_offset)\n",
    "plt.title('Predicted trajectory {}'.format(taxi_driver.split('.')[0]))\n",
    "plt.ylabel('Lattitude')\n",
    "plt.xlabel('Longitude')\n",
    "plt.tight_layout()"
   ]
  },
  {
   "cell_type": "markdown",
   "metadata": {},
   "source": [
    "### Subtask 2: Pick-up Location Classifier\n",
    "\n",
    "The second subtask focuses on a classifier for detecting pick-up locations.\n",
    "\n",
    "To do so, I use the location, day of week, hour and minute as features and build a model to classify if a location (coordinates) on a particular day and a particular time is a pick-point.\n",
    "\n",
    "**Assumption:** For simplicity, I assume that every single datapoint with `occupancy=1` is a candidate pick-up point, i.e. I do not consider as pick-up points only the datapoints with coordindate where occupancy switches from 0 to 1. \n",
    "\n",
    "#### Data preparation\n",
    "\n",
    "First, I start by converting the UNIX timestamp into a `datatime` object so that I can extract the day of the week, the hour and the minute."
   ]
  },
  {
   "cell_type": "code",
   "execution_count": 17,
   "metadata": {},
   "outputs": [],
   "source": [
    "def extract_date_time(row: Series):\n",
    "    dt = datetime.datetime.fromtimestamp(row['timestamp'])\n",
    "    row['day'] = dt.weekday()\n",
    "    row['hour'] = dt.hour\n",
    "    row['minute'] = dt.minute\n",
    "    return row"
   ]
  },
  {
   "cell_type": "code",
   "execution_count": 18,
   "metadata": {},
   "outputs": [
    {
     "data": {
      "text/html": [
       "<div>\n",
       "<style scoped>\n",
       "    .dataframe tbody tr th:only-of-type {\n",
       "        vertical-align: middle;\n",
       "    }\n",
       "\n",
       "    .dataframe tbody tr th {\n",
       "        vertical-align: top;\n",
       "    }\n",
       "\n",
       "    .dataframe thead th {\n",
       "        text-align: right;\n",
       "    }\n",
       "</style>\n",
       "<table border=\"1\" class=\"dataframe\">\n",
       "  <thead>\n",
       "    <tr style=\"text-align: right;\">\n",
       "      <th></th>\n",
       "      <th>lattitude</th>\n",
       "      <th>longitude</th>\n",
       "      <th>occupancy</th>\n",
       "      <th>timestamp</th>\n",
       "      <th>day</th>\n",
       "      <th>hour</th>\n",
       "      <th>minute</th>\n",
       "    </tr>\n",
       "  </thead>\n",
       "  <tbody>\n",
       "    <tr>\n",
       "      <th>new_ajsnedsi_1</th>\n",
       "      <td>37.75124</td>\n",
       "      <td>-122.39527</td>\n",
       "      <td>0.0</td>\n",
       "      <td>1.211022e+09</td>\n",
       "      <td>5.0</td>\n",
       "      <td>13.0</td>\n",
       "      <td>6.0</td>\n",
       "    </tr>\n",
       "    <tr>\n",
       "      <th>new_ajsnedsi_2</th>\n",
       "      <td>37.75027</td>\n",
       "      <td>-122.39532</td>\n",
       "      <td>0.0</td>\n",
       "      <td>1.211022e+09</td>\n",
       "      <td>5.0</td>\n",
       "      <td>13.0</td>\n",
       "      <td>7.0</td>\n",
       "    </tr>\n",
       "    <tr>\n",
       "      <th>new_ajsnedsi_3</th>\n",
       "      <td>37.75224</td>\n",
       "      <td>-122.39650</td>\n",
       "      <td>0.0</td>\n",
       "      <td>1.211023e+09</td>\n",
       "      <td>5.0</td>\n",
       "      <td>13.0</td>\n",
       "      <td>8.0</td>\n",
       "    </tr>\n",
       "    <tr>\n",
       "      <th>new_ajsnedsi_4</th>\n",
       "      <td>37.75281</td>\n",
       "      <td>-122.39083</td>\n",
       "      <td>0.0</td>\n",
       "      <td>1.211023e+09</td>\n",
       "      <td>5.0</td>\n",
       "      <td>13.0</td>\n",
       "      <td>9.0</td>\n",
       "    </tr>\n",
       "    <tr>\n",
       "      <th>new_ajsnedsi_5</th>\n",
       "      <td>37.76503</td>\n",
       "      <td>-122.39311</td>\n",
       "      <td>0.0</td>\n",
       "      <td>1.211023e+09</td>\n",
       "      <td>5.0</td>\n",
       "      <td>13.0</td>\n",
       "      <td>10.0</td>\n",
       "    </tr>\n",
       "  </tbody>\n",
       "</table>\n",
       "</div>"
      ],
      "text/plain": [
       "                lattitude  longitude  occupancy     timestamp  day  hour  \\\n",
       "new_ajsnedsi_1   37.75124 -122.39527        0.0  1.211022e+09  5.0  13.0   \n",
       "new_ajsnedsi_2   37.75027 -122.39532        0.0  1.211022e+09  5.0  13.0   \n",
       "new_ajsnedsi_3   37.75224 -122.39650        0.0  1.211023e+09  5.0  13.0   \n",
       "new_ajsnedsi_4   37.75281 -122.39083        0.0  1.211023e+09  5.0  13.0   \n",
       "new_ajsnedsi_5   37.76503 -122.39311        0.0  1.211023e+09  5.0  13.0   \n",
       "\n",
       "                minute  \n",
       "new_ajsnedsi_1     6.0  \n",
       "new_ajsnedsi_2     7.0  \n",
       "new_ajsnedsi_3     8.0  \n",
       "new_ajsnedsi_4     9.0  \n",
       "new_ajsnedsi_5    10.0  "
      ]
     },
     "execution_count": 18,
     "metadata": {},
     "output_type": "execute_result"
    }
   ],
   "source": [
    "data = all_data[['lattitude', 'longitude', 'occupancy', 'timestamp']]\n",
    "data['day'] = 0\n",
    "data['hour'] = 0\n",
    "data['minute'] = 0\n",
    "data = data.apply(lambda row: extract_date_time(row), axis=1)\n",
    "data.head()"
   ]
  },
  {
   "cell_type": "markdown",
   "metadata": {},
   "source": [
    "Now, I build the `X` matrix containing my features and the `Y` matrix containing the labels. Once again, I normalize the longitude and lattitude values."
   ]
  },
  {
   "cell_type": "code",
   "execution_count": 19,
   "metadata": {},
   "outputs": [],
   "source": [
    "X = data.drop(labels=['occupancy', 'timestamp'], axis=1)\n",
    "X['lattitude'] = X['lattitude'] - lat_offset\n",
    "X['longitude'] = X['longitude'] - long_offset\n",
    "\n",
    "Y = data['occupancy']"
   ]
  },
  {
   "cell_type": "markdown",
   "metadata": {},
   "source": [
    "I continue by splitting randomly my data into train and test sets with a ration of 80-20."
   ]
  },
  {
   "cell_type": "code",
   "execution_count": 20,
   "metadata": {},
   "outputs": [],
   "source": [
    "X_train, X_test, Y_train, Y_test = train_test_split(X, Y, stratify=Y, test_size=0.2, random_state=0)"
   ]
  },
  {
   "cell_type": "markdown",
   "metadata": {},
   "source": [
    "#### Baseline Model\n",
    "\n",
    "I select a naive baseline model that predicts always 0 for the next location."
   ]
  },
  {
   "cell_type": "code",
   "execution_count": 21,
   "metadata": {},
   "outputs": [
    {
     "name": "stdout",
     "output_type": "stream",
     "text": [
      "The baseline accuracy of a naive model is 0.55\n"
     ]
    }
   ],
   "source": [
    "baseline_acc = round(Y_test[Y_test == 0].shape[0] / Y_test.shape[0], 3)\n",
    "print(f'The baseline accuracy of a naive model is {baseline_acc}')"
   ]
  },
  {
   "cell_type": "markdown",
   "metadata": {},
   "source": [
    "#### Random Forests\n",
    "\n",
    "Then I build an AI-based classifier using Random Forests (RF) in order to predict if a datapoint is a pick-up location or not. RF outperforms the baseline approach significantly.\n",
    "\n",
    "**Note:** Other AI-based approaches are not tested for the reasons stated in the introduction."
   ]
  },
  {
   "cell_type": "code",
   "execution_count": 22,
   "metadata": {},
   "outputs": [
    {
     "name": "stdout",
     "output_type": "stream",
     "text": [
      "The accuracy is 0.698\n"
     ]
    }
   ],
   "source": [
    "clf = RandomForestClassifier(n_estimators=200, max_depth=20, random_state=0)\n",
    "clf.fit(X_train, Y_train)\n",
    "Y_pred = clf.predict(X_test)\n",
    "acc = round(accuracy_score(Y_test, Y_pred), 3)\n",
    "print(f'The accuracy is {acc}')"
   ]
  },
  {
   "cell_type": "markdown",
   "metadata": {},
   "source": [
    "#### Evaluation metric\n",
    "\n",
    "I use accuracy as a metric, since the problem seems to be balanced (55% of the labels are 0 and 45% of the labels are 1). In a scenario with higher imbalance I could have used F-score."
   ]
  },
  {
   "cell_type": "markdown",
   "metadata": {},
   "source": [
    "### Combining Subtasks 1 and 2\n",
    "\n",
    "We can now use the trajectory predictor or Subtask 1 to pinpoint the next location of a taxi driver based on his current and last two positions. \n",
    "\n",
    "Using mechanisms like the speed of the taxi, etc. we can estimate the arrival time in position that is predicted. This can work as input in the pick-up location classifier of subtask 2 in order to classify if the next point is a pick-up point or not. \n",
    "\n",
    "We can determine the next pick-up point (and thus solve Task 2) by repeating this process for the whole predicted trajectory of the taxi."
   ]
  },
  {
   "cell_type": "markdown",
   "metadata": {},
   "source": [
    "## Bonus: Cluster Identification"
   ]
  },
  {
   "cell_type": "markdown",
   "metadata": {},
   "source": [
    "For the bonus task, I focus on clustering the locations where the taxis \n",
    "* have passangers\n",
    "* do not have passangers"
   ]
  },
  {
   "cell_type": "code",
   "execution_count": 23,
   "metadata": {},
   "outputs": [],
   "source": [
    "def visualize_dbscan(db: DBSCAN, X: DataFrame):\n",
    "\n",
    "    core_samples_mask = np.zeros_like(db.labels_, dtype=bool)\n",
    "    core_samples_mask[db.core_sample_indices_] = True\n",
    "\n",
    "    labels = db.labels_\n",
    "    \n",
    "    # Number of clusters in labels, ignoring noise if present.\n",
    "    n_clusters_ = len(set(labels)) - (1 if -1 in labels else 0)\n",
    "    n_noise_ = list(labels).count(-1)\n",
    "\n",
    "    print('Estimated number of clusters: %d' % n_clusters_)\n",
    "\n",
    "    # Black removed and is used for noise instead.\n",
    "    unique_labels = set(labels)\n",
    "    colors = [plt.cm.Spectral(each) for each in np.linspace(0, 1, len(unique_labels))]\n",
    "    for k, col in zip(unique_labels, colors):\n",
    "        if k == -1:\n",
    "            # Black used for noise.\n",
    "            col = [0, 0, 0, 1]\n",
    "            continue\n",
    "\n",
    "        class_member_mask = (labels == k)\n",
    "\n",
    "        xy = X[class_member_mask & core_samples_mask].values\n",
    "        plt.plot(xy[:, 0], xy[:, 1], 'o', markerfacecolor=tuple(col), markeredgecolor='k', markersize=14)\n",
    "\n",
    "        xy = X[class_member_mask & ~core_samples_mask].values\n",
    "        plt.plot(xy[:, 0], xy[:, 1], 'o', markerfacecolor=tuple(col), markeredgecolor='k', markersize=6)\n",
    "\n",
    "    plt.title('Estimated number of clusters: %d' % n_clusters_)\n",
    "    plt.show()"
   ]
  },
  {
   "cell_type": "markdown",
   "metadata": {},
   "source": [
    "### Clusters were taxis are occupied\n",
    "I use the `all_data` dataframe which contains all the datapoints I have selectes (5% of the total number of files). From these datapoints, I select those with `occupancy = 1` since I want to cluster the points where taxis are occupied.\n",
    "\n",
    "For computational reasons I select only 30% of these datapoints (notebook kernel dies with more datapoints). \n",
    "\n",
    "I demand the neighbouring point to have a max distance of 0.0005 degrees (approx 50 meters) and I require that each cluster has at least 50 datapoints. This means that at least 50 passangers are in a taxi in an area with radius 50 meters.\n",
    "\n",
    "I compare the results of DBSCAN with an online resource (image attached) that shows the pickup heatmap in San Francisco. The comparison verifies that the results of DBSCAN are very close to the reality since most of the pickup happen in San Francisco Downtown"
   ]
  },
  {
   "cell_type": "code",
   "execution_count": 24,
   "metadata": {},
   "outputs": [
    {
     "name": "stdout",
     "output_type": "stream",
     "text": [
      "Estimated number of clusters: 133\n"
     ]
    },
    {
     "data": {
      "image/png": "[encoded data removed]",
      "text/plain": [
       "<Figure size 432x288 with 1 Axes>"
      ]
     },
     "metadata": {
      "needs_background": "light"
     },
     "output_type": "display_data"
    }
   ],
   "source": [
    "sampled_data = all_data[all_data['occupancy'] == 1][['lattitude', 'longitude']].sample(frac=0.3, random_state=0)\n",
    "\n",
    "db = DBSCAN(eps=0.0005, min_samples=50)\n",
    "db.fit(sampled_data)\n",
    "visualize_dbscan(db=db, X=sampled_data)"
   ]
  },
  {
   "cell_type": "markdown",
   "metadata": {},
   "source": [
    "<img src=\"files/images/pickup_heatmap.jpg\">"
   ]
  },
  {
   "cell_type": "markdown",
   "metadata": {},
   "source": [
    "### Clusters were taxis are non occupied\n",
    "I follow the same approach as before but not I focus on datapoints where taxis have no passangers, i.e. datapoints with `occupancy = 0`.\n",
    "\n",
    "Once again, I compare the results of DBSCAN with an online resource (image attached), that shows the cab stations in San Francisco. Once again, the comparison verifies that the DBSCAN results are reasonable since most taxi cab stations are in San Francisco Downtown around hotels."
   ]
  },
  {
   "cell_type": "code",
   "execution_count": 25,
   "metadata": {},
   "outputs": [
    {
     "name": "stdout",
     "output_type": "stream",
     "text": [
      "Estimated number of clusters: 133\n"
     ]
    },
    {
     "data": {
      "image/png": "[encoded data removed]",
      "text/plain": [
       "<Figure size 432x288 with 1 Axes>"
      ]
     },
     "metadata": {
      "needs_background": "light"
     },
     "output_type": "display_data"
    }
   ],
   "source": [
    "sampled_data = all_data[all_data['occupancy'] == 0][['lattitude', 'longitude']].sample(frac=0.3, random_state=0)\n",
    "\n",
    "db = DBSCAN(eps=0.0005, min_samples=50)\n",
    "db.fit(sampled_data)\n",
    "visualize_dbscan(db=db, X=sampled_data)"
   ]
  },
  {
   "cell_type": "markdown",
   "metadata": {},
   "source": [
    "<img src=\"files/images/taxi_station.png\">"
   ]
  },
  {
   "cell_type": "code",
   "execution_count": null,
   "metadata": {},
   "outputs": [],
   "source": []
  }
 ],
 "metadata": {
  "kernelspec": {
   "display_name": "venv",
   "language": "python",
   "name": "venv"
  },
  "language_info": {
   "codemirror_mode": {
    "name": "ipython",
    "version": 3
   },
   "file_extension": ".py",
   "mimetype": "text/x-python",
   "name": "python",
   "nbconvert_exporter": "python",
   "pygments_lexer": "ipython3",
   "version": "3.6.3"
  }
 },
 "nbformat": 4,
 "nbformat_minor": 2
}
